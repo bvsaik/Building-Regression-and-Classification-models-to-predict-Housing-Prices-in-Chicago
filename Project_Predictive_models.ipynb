{
 "cells": [
  {
   "cell_type": "code",
   "execution_count": 20,
   "id": "8593cbfa",
   "metadata": {},
   "outputs": [
    {
     "data": {
      "text/html": [
       "<div>\n",
       "<style scoped>\n",
       "    .dataframe tbody tr th:only-of-type {\n",
       "        vertical-align: middle;\n",
       "    }\n",
       "\n",
       "    .dataframe tbody tr th {\n",
       "        vertical-align: top;\n",
       "    }\n",
       "\n",
       "    .dataframe thead th {\n",
       "        text-align: right;\n",
       "    }\n",
       "</style>\n",
       "<table border=\"1\" class=\"dataframe\">\n",
       "  <thead>\n",
       "    <tr style=\"text-align: right;\">\n",
       "      <th></th>\n",
       "      <th>Price</th>\n",
       "      <th>Bedroom</th>\n",
       "      <th>Space</th>\n",
       "      <th>Room</th>\n",
       "      <th>Lot</th>\n",
       "      <th>Tax</th>\n",
       "      <th>Bathroom</th>\n",
       "      <th>Garage</th>\n",
       "      <th>Condition</th>\n",
       "    </tr>\n",
       "  </thead>\n",
       "  <tbody>\n",
       "    <tr>\n",
       "      <th>0</th>\n",
       "      <td>53.0</td>\n",
       "      <td>2.0</td>\n",
       "      <td>967.0</td>\n",
       "      <td>5.0</td>\n",
       "      <td>39.0</td>\n",
       "      <td>652.0</td>\n",
       "      <td>1.5</td>\n",
       "      <td>0.0</td>\n",
       "      <td>0.0</td>\n",
       "    </tr>\n",
       "    <tr>\n",
       "      <th>1</th>\n",
       "      <td>55.0</td>\n",
       "      <td>2.0</td>\n",
       "      <td>815.0</td>\n",
       "      <td>5.0</td>\n",
       "      <td>33.0</td>\n",
       "      <td>1000.0</td>\n",
       "      <td>1.0</td>\n",
       "      <td>2.0</td>\n",
       "      <td>1.0</td>\n",
       "    </tr>\n",
       "    <tr>\n",
       "      <th>2</th>\n",
       "      <td>56.0</td>\n",
       "      <td>3.0</td>\n",
       "      <td>900.0</td>\n",
       "      <td>5.0</td>\n",
       "      <td>35.0</td>\n",
       "      <td>897.0</td>\n",
       "      <td>1.5</td>\n",
       "      <td>1.0</td>\n",
       "      <td>0.0</td>\n",
       "    </tr>\n",
       "  </tbody>\n",
       "</table>\n",
       "</div>"
      ],
      "text/plain": [
       "   Price  Bedroom  Space  Room   Lot     Tax  Bathroom  Garage  Condition\n",
       "0   53.0      2.0  967.0   5.0  39.0   652.0       1.5     0.0        0.0\n",
       "1   55.0      2.0  815.0   5.0  33.0  1000.0       1.0     2.0        1.0\n",
       "2   56.0      3.0  900.0   5.0  35.0   897.0       1.5     1.0        0.0"
      ]
     },
     "execution_count": 20,
     "metadata": {},
     "output_type": "execute_result"
    }
   ],
   "source": [
    "import pandas as pd\n",
    "\n",
    "df=pd.read_csv(\"C:/Users/vbopp/Downloads/realest.csv\")\n",
    "df.head(3)"
   ]
  },
  {
   "cell_type": "code",
   "execution_count": 21,
   "id": "fb02e100",
   "metadata": {},
   "outputs": [
    {
     "name": "stdout",
     "output_type": "stream",
     "text": [
      "<class 'pandas.core.frame.DataFrame'>\n",
      "RangeIndex: 157 entries, 0 to 156\n",
      "Data columns (total 9 columns):\n",
      " #   Column     Non-Null Count  Dtype  \n",
      "---  ------     --------------  -----  \n",
      " 0   Price      156 non-null    float64\n",
      " 1   Bedroom    156 non-null    float64\n",
      " 2   Space      146 non-null    float64\n",
      " 3   Room       156 non-null    float64\n",
      " 4   Lot        146 non-null    float64\n",
      " 5   Tax        147 non-null    float64\n",
      " 6   Bathroom   156 non-null    float64\n",
      " 7   Garage     156 non-null    float64\n",
      " 8   Condition  156 non-null    float64\n",
      "dtypes: float64(9)\n",
      "memory usage: 11.2 KB\n"
     ]
    }
   ],
   "source": [
    "df.info()"
   ]
  },
  {
   "cell_type": "code",
   "execution_count": 22,
   "id": "511ecdf3",
   "metadata": {},
   "outputs": [
    {
     "name": "stdout",
     "output_type": "stream",
     "text": [
      "<class 'pandas.core.frame.DataFrame'>\n",
      "RangeIndex: 157 entries, 0 to 156\n",
      "Data columns (total 9 columns):\n",
      " #   Column     Non-Null Count  Dtype  \n",
      "---  ------     --------------  -----  \n",
      " 0   Price      156 non-null    float64\n",
      " 1   Bedroom    156 non-null    float64\n",
      " 2   Space      157 non-null    float64\n",
      " 3   Room       156 non-null    float64\n",
      " 4   Lot        157 non-null    float64\n",
      " 5   Tax        157 non-null    float64\n",
      " 6   Bathroom   156 non-null    float64\n",
      " 7   Garage     156 non-null    float64\n",
      " 8   Condition  156 non-null    float64\n",
      "dtypes: float64(9)\n",
      "memory usage: 11.2 KB\n"
     ]
    }
   ],
   "source": [
    "#\n",
    "data=df\n",
    "\n",
    "avg_space=round(data['Space'].mean())\n",
    "avg_lot=round(data['Lot'].mean())\n",
    "avg_tax=round(data['Tax'].mean())\n",
    "\n",
    "data['Space'].fillna(avg_space,inplace=True)\n",
    "data['Lot'].fillna(avg_lot,inplace=True)\n",
    "data['Tax'].fillna(avg_tax, inplace=True)\n",
    "\n",
    "data.info()"
   ]
  },
  {
   "cell_type": "code",
   "execution_count": 23,
   "id": "622bf464",
   "metadata": {},
   "outputs": [
    {
     "name": "stdout",
     "output_type": "stream",
     "text": [
      "<class 'pandas.core.frame.DataFrame'>\n",
      "RangeIndex: 156 entries, 0 to 155\n",
      "Data columns (total 9 columns):\n",
      " #   Column     Non-Null Count  Dtype  \n",
      "---  ------     --------------  -----  \n",
      " 0   Price      156 non-null    float64\n",
      " 1   Bedroom    156 non-null    float64\n",
      " 2   Space      156 non-null    float64\n",
      " 3   Room       156 non-null    float64\n",
      " 4   Lot        156 non-null    float64\n",
      " 5   Tax        156 non-null    float64\n",
      " 6   Bathroom   156 non-null    float64\n",
      " 7   Garage     156 non-null    float64\n",
      " 8   Condition  156 non-null    float64\n",
      "dtypes: float64(9)\n",
      "memory usage: 11.1 KB\n"
     ]
    }
   ],
   "source": [
    "data.tail()\n",
    "\n",
    "data.drop(index=156, inplace=True)\n",
    "data.info()"
   ]
  },
  {
   "cell_type": "code",
   "execution_count": 24,
   "id": "0ed46d26",
   "metadata": {},
   "outputs": [
    {
     "name": "stdout",
     "output_type": "stream",
     "text": [
      "Mean Squared Error: 65.66713205550892\n",
      "R-squared: 0.6538551179337232\n"
     ]
    }
   ],
   "source": [
    "#Building a linear regression Model\n",
    "\n",
    "from sklearn.model_selection import train_test_split\n",
    "from sklearn.linear_model import LinearRegression\n",
    "from sklearn.metrics import mean_squared_error, r2_score\n",
    "\n",
    "# Separating features and target variable\n",
    "X = data.drop(columns=['Price'])  \n",
    "y = data['Price']\n",
    "\n",
    "# Spliting data into train and test sets\n",
    "X_train, X_test, y_train, y_test = train_test_split(X, y, test_size=0.2, random_state=42)\n",
    "\n",
    "# training the model\n",
    "model = LinearRegression()\n",
    "model.fit(X_train, y_train)\n",
    "\n",
    "# Predicting on test set\n",
    "y_pred = model.predict(X_test)\n",
    "\n",
    "# Evaluating the model\n",
    "mse = mean_squared_error(y_test, y_pred)\n",
    "r2 = r2_score(y_test, y_pred)\n",
    "print(f'Mean Squared Error: {mse}')\n",
    "print(f'R-squared: {r2}')\n"
   ]
  },
  {
   "cell_type": "code",
   "execution_count": 25,
   "id": "dac92e47",
   "metadata": {},
   "outputs": [],
   "source": [
    "# Calculate the median price\n",
    "median_price = data['Price'].median()\n",
    "\n",
    "# Create a binary target variable where 1 = above/equal to median, 0 = below median\n",
    "data['price_category'] = data['Price'].apply(lambda x: 1 if x >= median_price else 0)\n",
    "\n",
    "# Ensure that 'price' column is dropped, and we are only using 'price_category' as the target\n",
    "a = data.drop(columns=['Price', 'price_category'])\n",
    "b = data['price_category']"
   ]
  },
  {
   "cell_type": "code",
   "execution_count": 28,
   "id": "12bab9d7",
   "metadata": {},
   "outputs": [
    {
     "name": "stdout",
     "output_type": "stream",
     "text": [
      "Accuracy: 0.90625\n",
      "Classification Report:\n",
      "              precision    recall  f1-score   support\n",
      "\n",
      "           0       0.81      1.00      0.90        13\n",
      "           1       1.00      0.84      0.91        19\n",
      "\n",
      "    accuracy                           0.91        32\n",
      "   macro avg       0.91      0.92      0.91        32\n",
      "weighted avg       0.92      0.91      0.91        32\n",
      "\n"
     ]
    }
   ],
   "source": [
    "#building a Random forest Classification model\n",
    "\n",
    "from sklearn.ensemble import RandomForestClassifier\n",
    "from sklearn.metrics import accuracy_score, classification_report\n",
    "\n",
    "\n",
    "a_train, a_test, b_train, b_test = train_test_split(a, b, test_size=0.2, random_state=42)\n",
    "\n",
    "# training the model\n",
    "model = RandomForestClassifier(random_state=42)\n",
    "model.fit(a_train, b_train)\n",
    "\n",
    "# Predicting and evaluating the results\n",
    "b_pred = model.predict(a_test)\n",
    "accuracy = accuracy_score(b_test, b_pred)\n",
    "report = classification_report(b_test, b_pred)\n",
    "\n",
    "print(f'Accuracy: {accuracy}')\n",
    "print('Classification Report:')\n",
    "print(report)\n",
    "\n"
   ]
  },
  {
   "cell_type": "markdown",
   "id": "6ea9d675",
   "metadata": {},
   "source": [
    "The comparison between the linear regression and random forest classification models reveals distinct strengths tailored to different objectives. The linear regression model predicts house prices with a Mean Squared Error (MSE) of 65.67 and an R-squared value of 0.65, indicating that it explains about 65% of the variance in the dataset. This model is beneficial for understanding specific price dynamics but may not capture all influencing factors.\n",
    "\n",
    "In contrast, the random forest classifier demonstrates impressive performance with an accuracy of 90.63%. It excels at categorizing house prices into two classes based on their relation to the median price, achieving high precision and recall rates, particularly for predicting prices above the median. While it shows strong results in classifying prices, it is slightly less effective for those below the median. Ultimately, the choice between these models depends on whether the goal is to predict exact prices or categorize them into classes. Using both models could provide a comprehensive analysis of the housing market."
   ]
  }
 ],
 "metadata": {
  "kernelspec": {
   "display_name": "Python 3 (ipykernel)",
   "language": "python",
   "name": "python3"
  },
  "language_info": {
   "codemirror_mode": {
    "name": "ipython",
    "version": 3
   },
   "file_extension": ".py",
   "mimetype": "text/x-python",
   "name": "python",
   "nbconvert_exporter": "python",
   "pygments_lexer": "ipython3",
   "version": "3.11.5"
  }
 },
 "nbformat": 4,
 "nbformat_minor": 5
}
